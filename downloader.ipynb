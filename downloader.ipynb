{
 "cells": [
  {
   "cell_type": "code",
   "execution_count": 1,
   "id": "915026b0",
   "metadata": {},
   "outputs": [],
   "source": [
    "import os\n",
    "from pytube import YouTube\n",
    "from pydub import AudioSegment\n",
    "from pathlib import Path\n",
    "import tkinter as tk\n",
    "from tkinter import filedialog\n",
    "import sys\n",
    "from io import StringIO"
   ]
  },
  {
   "cell_type": "code",
   "execution_count": 2,
   "id": "70b34873",
   "metadata": {},
   "outputs": [],
   "source": [
    "def get_filenames(dir_path = \"./music/mp4\", ext = 'mp4'):\n",
    "    names = []\n",
    "    for filename in os.listdir(dir_path):\n",
    "        if filename.split('.')[-1] == ext:\n",
    "            names.append(filename.split('.')[-2])\n",
    "    \n",
    "    return names"
   ]
  },
  {
   "cell_type": "code",
   "execution_count": 3,
   "id": "0d33d1c0",
   "metadata": {},
   "outputs": [],
   "source": [
    "def get_overflowing_mp4s(mp4_dir = \"./music/mp4\", mp3_dir = \"./music/mp3/\"):\n",
    "    mp4s = get_filenames(mp4_dir, ext=\"mp4\")\n",
    "    mp3s = get_filenames(mp3_dir, ext=\"mp3\")\n",
    "    \n",
    "    over = []\n",
    "    for filename in mp4s:\n",
    "        if filename not in mp3s:\n",
    "            over.append(filename)\n",
    "    return over"
   ]
  },
  {
   "cell_type": "code",
   "execution_count": 4,
   "id": "a30020e9",
   "metadata": {},
   "outputs": [],
   "source": [
    "def get_overflowing_URLs(URLs: list[str], download_dir_path = \"./music/mp4/\"):\n",
    "    names = get_filenames(download_dir_path, ext=\"mp4\")\n",
    "    over = []\n",
    "    for URL in URLs:\n",
    "        if YouTube(URL).title not in names:\n",
    "            over.append(URL)\n",
    "    return over        "
   ]
  },
  {
   "cell_type": "code",
   "execution_count": 5,
   "id": "4a48b597",
   "metadata": {},
   "outputs": [],
   "source": [
    "def download_sound_from_youtube_video(url, filepath):\n",
    "    try:\n",
    "        # Create a YouTube object with the URL\n",
    "        yt = YouTube(url)\n",
    "        \n",
    "        # Get the highest resolution stream available\n",
    "        stream = yt.streams.get_audio_only()\n",
    "        \n",
    "        # Download the video to the specified file path\n",
    "        stream.download(output_path=filepath)\n",
    "        \n",
    "        print(f\"Downloaded '{yt.title}' successfully!\")\n",
    "    except Exception as e:\n",
    "        print(f\"An error occurred: {e}\")"
   ]
  },
  {
   "cell_type": "code",
   "execution_count": 6,
   "id": "903e1ccc",
   "metadata": {},
   "outputs": [],
   "source": [
    "def download_music_from_urls(list_of_URLs: list[str], filepath = \"./music/mp4/\"):\n",
    "    pocet = len(list_of_URLs)\n",
    "    for index, URL in enumerate(list_of_URLs):\n",
    "        download_sound_from_youtube_video(URL,filepath=filepath)\n",
    "        print(f\"{index+1}. video stazeno z adresy: {URL}\")\n",
    "    print(f\"vse stazene z YT najdete ve slozce {filepath}\")"
   ]
  },
  {
   "cell_type": "code",
   "execution_count": 7,
   "id": "c078f980",
   "metadata": {},
   "outputs": [],
   "source": [
    "def download_overflowing(URL_filepath = \"./adresy.txt\", output_dir_path_mp4=\"./music/mp4/\"):\n",
    "        with open(URL_filepath, 'r') as file:\n",
    "            potential_URLs = [ line.strip() for line in file.readlines() ]\n",
    "        try:\n",
    "            URLs = get_overflowing_URLs(potential_URLs, download_dir_path=output_dir_path_mp4)\n",
    "        except Exception as e:\n",
    "            print(f\"Ouha, nastala chyba: {e}\")\n",
    "        try:\n",
    "            download_music_from_urls(URLs, filepath=output_dir_path_mp4)\n",
    "        except Exception as e:\n",
    "            print(f\"Ouha, nastala chyba: {e}\")"
   ]
  },
  {
   "cell_type": "markdown",
   "id": "a521764c",
   "metadata": {},
   "source": [
    "### Convert:"
   ]
  },
  {
   "cell_type": "code",
   "execution_count": 8,
   "id": "606d1617",
   "metadata": {},
   "outputs": [],
   "source": [
    "def convert_to_mp3(input_filename_path: str, output_dir = \"./music/mp3/\"):\n",
    "    audio = AudioSegment.from_file(input_filename_path, format=\"mp4\")\n",
    "    print(f\"converting into: {output_dir}{input_filename_path.split('.')[-2].split('/')[-1]}.mp3\")\n",
    "    audio.export(f\"{output_dir}{input_filename_path.split('.')[-2].split('/')[-1]}.mp3\", format = \"mp3\")\n",
    "    print(f\"CONVERTED into: {output_dir}{input_filename_path.split('.')[-2].split('/')[-1]}.mp3\")"
   ]
  },
  {
   "cell_type": "code",
   "execution_count": 9,
   "id": "41fc1046",
   "metadata": {},
   "outputs": [],
   "source": [
    "def convert_overflowing(input_dir=\"./music/mp4/\", output_dir=\"./music/mp3/\"):\n",
    "    to_be_converted = get_overflowing_mp4s(mp4_dir=input_dir, mp3_dir=output_dir)\n",
    "    \n",
    "    for name in get_overflowing_mp4s(mp4_dir=input_dir, mp3_dir=output_dir):\n",
    "        try:\n",
    "            convert_to_mp3(f\"{input_dir}{name}.mp4\", output_dir=output_dir)\n",
    "        except Exception as e:\n",
    "            print(f\"Ouha, nastala chyba: {e}\")\n",
    "    print(f\"Vsech {len(to_be_converted)} souboru prekonvertovano nebo u nich nastala chyba.\")\n",
    "    print(\"Soubory ktere byly oznaceny ke konverzi:\")\n",
    "    print(to_be_converted)"
   ]
  },
  {
   "cell_type": "code",
   "execution_count": 10,
   "id": "74c5a8cb",
   "metadata": {},
   "outputs": [],
   "source": [
    "def download_and_convert(URLs_filepath = \"./adresy.txt\", mp4_dirpath = \"./music/mp4/\", mp3_dirpath=\"./music/mp3/\"):\n",
    "    download_overflowing(URL_filepath=URLs_filepath, output_dir_path_mp4=mp4_dirpath)\n",
    "    convert_overflowing(input_dir=mp4_dirpath, output_dir=mp3_dirpath)"
   ]
  },
  {
   "cell_type": "markdown",
   "id": "505febf3",
   "metadata": {},
   "source": [
    "### vytvorit adresarovou strukturu:"
   ]
  },
  {
   "cell_type": "code",
   "execution_count": 11,
   "id": "294ee123",
   "metadata": {},
   "outputs": [],
   "source": [
    "def create_directories_and_file():\n",
    "    # Define the directory paths\n",
    "    mp3_dir = Path(\"./music/mp3/\")\n",
    "    mp4_dir = Path(\"./music/mp4/\")\n",
    "    file_path = Path(\"./adresy.txt\")\n",
    "\n",
    "    # Create the directories if they do not exist\n",
    "    mp3_dir.mkdir(parents=True, exist_ok=True)\n",
    "    mp4_dir.mkdir(parents=True, exist_ok=True)\n",
    "\n",
    "    # Create the file if it does not exist\n",
    "    if not file_path.exists():\n",
    "        file_path.touch()\n",
    "\n",
    "    print(f\"Directories '{mp3_dir}' and '{mp4_dir}' created or already exist.\")\n",
    "    print(f\"File '{file_path}' created or already exists.\")"
   ]
  },
  {
   "cell_type": "code",
   "execution_count": 12,
   "id": "a98ef433",
   "metadata": {},
   "outputs": [
    {
     "name": "stdout",
     "output_type": "stream",
     "text": [
      "Directories 'music/mp3' and 'music/mp4' created or already exist.\n",
      "File 'adresy.txt' created or already exists.\n"
     ]
    }
   ],
   "source": [
    "create_directories_and_file()"
   ]
  },
  {
   "cell_type": "code",
   "execution_count": 13,
   "id": "cb09054e",
   "metadata": {},
   "outputs": [],
   "source": [
    "class StdoutRedirector:\n",
    "    def __init__(self, text_widget):\n",
    "        self.text_widget = text_widget\n",
    "\n",
    "    def write(self, message):\n",
    "        self.text_widget.insert(tk.END, message)\n",
    "        self.text_widget.see(tk.END)\n",
    "\n",
    "    def flush(self):\n",
    "        pass\n",
    "\n",
    "def select_mp3_slozka():\n",
    "    mp3_slozka_path = filedialog.askdirectory()\n",
    "    if mp3_slozka_path:\n",
    "        mp3_slozka_entry.delete(0, tk.END)\n",
    "        mp3_slozka_entry.insert(0, mp3_slozka_path)\n",
    "\n",
    "def select_mp4_slozka():\n",
    "    mp4_slozka_path = filedialog.askdirectory()\n",
    "    if mp4_slozka_path:\n",
    "        mp4_slozka_entry.delete(0, tk.END)\n",
    "        mp4_slozka_entry.insert(0, mp4_slozka_path)\n",
    "\n",
    "def select_soubor_adres_URL():\n",
    "    soubor_adres_URL_path = filedialog.askopenfilename()\n",
    "    if soubor_adres_URL_path:\n",
    "        soubor_adres_URL_entry.delete(0, tk.END)\n",
    "        soubor_adres_URL_entry.insert(0, soubor_adres_URL_path)\n",
    "\n",
    "def launch_download():\n",
    "    print(\"Stahuji\")\n",
    "    mp3_slozka = mp3_slozka_entry.get()\n",
    "    mp4_slozka = mp4_slozka_entry.get()\n",
    "    soubor_adres_URL = soubor_adres_URL_entry.get()\n",
    "    download_and_convert(URLs_filepath=soubor_adres_URL, mp4_dirpath=mp4_slozka+'/', mp3_dirpath=mp3_slozka+'/')\n",
    "    print(f\"Hudba je v: {mp3_slozka}\")\n",
    "    print(f\"MP4 je v: {mp4_slozka}\")\n",
    "    print(f\"Soubor Adres URL je v: {soubor_adres_URL}\")\n",
    "\n",
    "# Create the main window\n",
    "root = tk.Tk()\n",
    "root.title(\"Directory and File Selector\")\n",
    "\n",
    "# Default values\n",
    "default_mp3_slozka = \"./music/mp3\"\n",
    "default_mp4_slozka = \"./music/mp4\"\n",
    "default_soubor_adres_URL = \"./adresy.txt\"\n",
    "\n",
    "# MP3 Složka\n",
    "mp3_slozka_label = tk.Label(root, text=\"MP3 Složka:\")\n",
    "mp3_slozka_label.grid(row=0, column=0, padx=10, pady=10)\n",
    "mp3_slozka_entry = tk.Entry(root, width=50)\n",
    "mp3_slozka_entry.grid(row=0, column=1, padx=10, pady=10)\n",
    "mp3_slozka_entry.insert(0, default_mp3_slozka)  # Set default value\n",
    "mp3_slozka_button = tk.Button(root, text=\"Browse\", command=select_mp3_slozka)\n",
    "mp3_slozka_button.grid(row=0, column=2, padx=10, pady=10)\n",
    "\n",
    "# MP4 Složka\n",
    "mp4_slozka_label = tk.Label(root, text=\"MP4 Složka:\")\n",
    "mp4_slozka_label.grid(row=1, column=0, padx=10, pady=10)\n",
    "mp4_slozka_entry = tk.Entry(root, width=50)\n",
    "mp4_slozka_entry.grid(row=1, column=1, padx=10, pady=10)\n",
    "mp4_slozka_entry.insert(0, default_mp4_slozka)  # Set default value\n",
    "mp4_slozka_button = tk.Button(root, text=\"Browse\", command=select_mp4_slozka)\n",
    "mp4_slozka_button.grid(row=1, column=2, padx=10, pady=10)\n",
    "\n",
    "# Soubor Adres URL\n",
    "soubor_adres_URL_label = tk.Label(root, text=\"Soubor Adres URL:\")\n",
    "soubor_adres_URL_label.grid(row=2, column=0, padx=10, pady=10)\n",
    "soubor_adres_URL_entry = tk.Entry(root, width=50)\n",
    "soubor_adres_URL_entry.grid(row=2, column=1, padx=10, pady=10)\n",
    "soubor_adres_URL_entry.insert(0, default_soubor_adres_URL)  # Set default value\n",
    "soubor_adres_URL_button = tk.Button(root, text=\"Browse\", command=select_soubor_adres_URL)\n",
    "soubor_adres_URL_button.grid(row=2, column=2, padx=10, pady=10)\n",
    "\n",
    "# OK Button\n",
    "ok_button = tk.Button(root, text=\"OK\", command=launch_download)\n",
    "ok_button.grid(row=3, column=0, columnspan=3, pady=10)\n",
    "\n",
    "# Frame for text widget and scrollbar\n",
    "text_frame = tk.Frame(root)\n",
    "text_frame.grid(row=4, column=0, columnspan=3, padx=10, pady=10)\n",
    "\n",
    "# Text widget for standard output\n",
    "stdout_text = tk.Text(text_frame, wrap=tk.WORD, height=10, width=80)\n",
    "stdout_text.pack(side=tk.LEFT, fill=tk.BOTH, expand=True)\n",
    "\n",
    "# Scrollbar for the text widget\n",
    "scrollbar = tk.Scrollbar(text_frame, command=stdout_text.yview)\n",
    "scrollbar.pack(side=tk.RIGHT, fill=tk.Y)\n",
    "stdout_text.config(yscrollcommand=scrollbar.set)\n",
    "\n",
    "# Redirect stdout to the text widget\n",
    "sys.stdout = StdoutRedirector(stdout_text)\n",
    "\n",
    "# Run the application\n",
    "root.mainloop()\n"
   ]
  }
 ],
 "metadata": {
  "kernelspec": {
   "display_name": "Python 3 (ipykernel)",
   "language": "python",
   "name": "python3"
  },
  "language_info": {
   "codemirror_mode": {
    "name": "ipython",
    "version": 3
   },
   "file_extension": ".py",
   "mimetype": "text/x-python",
   "name": "python",
   "nbconvert_exporter": "python",
   "pygments_lexer": "ipython3",
   "version": "3.10.12"
  }
 },
 "nbformat": 4,
 "nbformat_minor": 5
}
